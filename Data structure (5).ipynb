{
 "cells": [
  {
   "cell_type": "markdown",
   "id": "f1f3314c-37f0-49f3-837e-3811c7c8674a",
   "metadata": {},
   "source": [
    "#THEORY QUESTIONS"
   ]
  },
  {
   "cell_type": "markdown",
   "id": "ec7ac453-7f2e-40fa-909d-d4b5b59af61d",
   "metadata": {},
   "source": [
    "1.What are data structures, and why are they important?\n",
    "\n",
    "ANS : data structure are specialized formats for organizing, storing and accessing collections of data.\n",
    "they provide eddicient way to manage information based on its characteristic and intended use."
   ]
  },
  {
   "cell_type": "markdown",
   "id": "384de27b-40c0-429e-8066-dbf3f6c9961a",
   "metadata": {},
   "source": [
    "2. What are data structures, and why are they important?\n",
    "\n",
    "ans: MUtable data types can be changed or modified after creation one can add, remove or modify/update data.\n",
    "eg. my_list = [1,2,3]\n",
    "    print(my_list)\n",
    "    my_list[0]=10\n",
    "    print(my_list)\n",
    "output - [10,2,3]\n",
    "\n",
    "Immutable data types cannot be change after creation,any modification creates a new object instead of changing the existing one.\n",
    "eg.  my_string = \"hello\"\n",
    "    print(my_string) #output = hello\n",
    "    my_string = \"world\"\n",
    "    print(my_string)  #output = world"
   ]
  },
  {
   "cell_type": "markdown",
   "id": "17d67c61-ff1b-42e2-ad81-290939069e40",
   "metadata": {},
   "source": [
    "3. What are the main differences between lists and tuples in Python?\n",
    "\n",
    "ans. list and tuples both are used to store collection of items whereas, list are mutable, you can change\n",
    "the data and is run using \"()\" while typle are immutabke. you cannot change the data and is run using \"[]\"."
   ]
  },
  {
   "cell_type": "markdown",
   "id": "db8a4390-09d7-4e42-81f6-e6f11f891ba8",
   "metadata": {},
   "source": [
    "4. Describe how dictionaries store data\n",
    "\n",
    "ans. dictionaries store data as ket-value pair. keys are unique and immutable denoted by \"{}\"."
   ]
  },
  {
   "cell_type": "markdown",
   "id": "e814a0dd-49fc-4be6-9a0f-12085c20ea9c",
   "metadata": {},
   "source": [
    "5. Why might you use a set instead of a list in Python?\n",
    "\n",
    "ans. we will use set instead of a list for followinh:\n",
    "1. to ensure uniqueness- sets automatically remove duplicate elements\n",
    "2. sets supports operations like union,intersection, and difference. which are not directly available in list.\n",
    "3. we dont have to care about the order f elements."
   ]
  },
  {
   "cell_type": "markdown",
   "id": "cf408ab0-8500-4323-92fe-415db131a254",
   "metadata": {},
   "source": [
    "6. What is a string in Python, and how is it different from a list?\n",
    "\n",
    "ans. string is a characters enclosed in a single quote (''), double quote (\"\"), and triple quote(''' '''). string are\n",
    "used to represent text-based data.\n",
    "difference from a list are- 1. sequence of character(text) \n",
    "2. immutable\n",
    "3. enclosed in quote"
   ]
  },
  {
   "cell_type": "markdown",
   "id": "dbbf3188-5c1b-4b35-9e54-8dc2fb705b68",
   "metadata": {},
   "source": [
    "7. How do tuples ensure data integrity in Python?\n",
    "\n",
    "ans. tuples ensure data integrity in python primarly because they're immutable. their contents\n",
    "cannot be modified after creation. this protects constant values from being altered."
   ]
  },
  {
   "cell_type": "markdown",
   "id": "93338faa-f0cd-464f-a70c-82e39ddd4582",
   "metadata": {},
   "source": [
    "8. How do tuples ensure data integrity in Python?\n",
    "\n",
    "ans. A hash table is a way of storing data in key-value pairs. it uses a hash function to lquiuckly find \n",
    "where to store or retrieve the value associated with a key. dictionaries use hash table to store data efficiently."
   ]
  },
  {
   "cell_type": "markdown",
   "id": "063d539f-eabe-4859-9a96-94229106ba83",
   "metadata": {},
   "source": [
    "9. Can lists contain different data types in Python?\n",
    "\n",
    "ans. yes, list can contain different data types in python. a list can hold various types\n",
    "as string, integer, boolean , floats etc."
   ]
  },
  {
   "cell_type": "markdown",
   "id": "ad74646a-72b9-426f-91f6-beb5068f0386",
   "metadata": {},
   "source": [
    "10. Can lists contain different data types in Python?\n",
    "\n",
    "ans. strings are immutable to ensure efficiency, security and reliability in hash based\n",
    "operations and simplicity in string handling."
   ]
  },
  {
   "cell_type": "markdown",
   "id": "f26a4f4b-59db-4133-9e52-4f8a327c01cc",
   "metadata": {},
   "source": [
    "11. What advantages do dictionaries offer over lists for certain tasks?\n",
    "\n",
    "ans. advantages of dictionaries over lists are better for tasks that require fast lookups, \n",
    "key-value associations and ensuring data integrity with unique keys."
   ]
  },
  {
   "cell_type": "markdown",
   "id": "052e4239-df56-47ff-bacb-5ea5fe10ca79",
   "metadata": {},
   "source": [
    "12.  Describe a scenario where using a tuple would be preferable over a list\n",
    "\n",
    "ans. A tuple would be preferrable over a list in situation where you need immutable data, that should\n",
    "not be changed during the programs execution. eg. important document figures or data."
   ]
  },
  {
   "cell_type": "markdown",
   "id": "3ee46770-f9ac-4345-83a7-32161bed2ed4",
   "metadata": {},
   "source": [
    "13.  How do sets handle duplicate values in Python?\n",
    "\n",
    "ans. sets is a collection that automatically handles duplicate values by removing them, set can only contain unique elements if a\n",
    "duplicate element is added set will ignore it and give the output."
   ]
  },
  {
   "cell_type": "markdown",
   "id": "d1852567-910c-4aa0-a749-4795d80f387d",
   "metadata": {},
   "source": [
    "14.  How does the “in” keyword work differently for lists and dictionaries?\n",
    "\n",
    "ans. 'in' for list checks for the presence of an element by scanning through the entire list start to end.\n",
    "'in' for dictionaries checks only the keys by default (not the values)"
   ]
  },
  {
   "cell_type": "markdown",
   "id": "f869d07b-97d3-4e97-a931-1708c022146e",
   "metadata": {},
   "source": [
    "15. Can you modify the elements of a tuple? Explain why or why not?\n",
    "\n",
    "ans. no, we cannot modify the element of a tuple because tuples are immutable once its created the\n",
    "elements cant be changed."
   ]
  },
  {
   "cell_type": "markdown",
   "id": "6b71ae06-7edf-44a0-9e90-adb0b9551a98",
   "metadata": {},
   "source": [
    "16. What is a nested dictionary, and give an example of its use case\n",
    "\n",
    "ans. A nested dictionary is a dictionary that contains one or more dictionaries as value.\n",
    "use case example: managing school records. or employee details."
   ]
  },
  {
   "cell_type": "markdown",
   "id": "ad0198cd-58aa-4887-966d-df6f66f34abc",
   "metadata": {},
   "source": [
    "17.  Describe the time complexity of accessing elements in a dictionary\n",
    "\n",
    "ans. dictionaries are implemented using a hash table (fast and constant time), in rare situations\n",
    "with excessive hash collisons."
   ]
  },
  {
   "cell_type": "markdown",
   "id": "279706dc-69be-446c-be4d-3638aa5c35b4",
   "metadata": {},
   "source": [
    "18. In what situations are lists preferred over dictionaries?\n",
    "\n",
    "ans. listsa are preferred when: 1. you need to maintain order of elements\n",
    "2. data is simple and doesn't require keys\n",
    "3. you need to access element by index"
   ]
  },
  {
   "cell_type": "markdown",
   "id": "34b18006-14ea-45ae-b618-a4289092ea35",
   "metadata": {},
   "source": [
    "19.  Why are dictionaries considered unordered, and how does that affect data retrieval?\n",
    "\n",
    "ans. hash table implementation: keys are stored based on their hash values, not in sequntial order"
   ]
  },
  {
   "cell_type": "markdown",
   "id": "bae21280-36ad-4950-a449-b5ba698eddb9",
   "metadata": {},
   "source": [
    "20. Explain the difference between a list and a dictionary in terms of data retrieval.\n",
    "\n",
    "ans. list: access data by index, sequntial searches take same time\n",
    "dictionaries: access data by key, lookups are constant on avg."
   ]
  },
  {
   "cell_type": "code",
   "execution_count": null,
   "id": "4b0e8e65-c88f-4e2b-afad-23e37810494b",
   "metadata": {},
   "outputs": [],
   "source": []
  },
  {
   "cell_type": "markdown",
   "id": "713ca9c5-2fac-42f7-83a6-3f7e8aacf374",
   "metadata": {},
   "source": [
    "#PRACTICAL QUESTIONS"
   ]
  },
  {
   "cell_type": "code",
   "execution_count": 34,
   "id": "0228e19f-6a96-40e6-995c-c6acbbd7e2cc",
   "metadata": {},
   "outputs": [
    {
     "name": "stdout",
     "output_type": "stream",
     "text": [
      "omkar\n"
     ]
    }
   ],
   "source": [
    "#!. Write a code to create a string with your name and print it\n",
    "\n",
    "name = \"omkar\"\n",
    "print(name) "
   ]
  },
  {
   "cell_type": "code",
   "execution_count": 44,
   "id": "662edc4b-5004-437f-8457-6c4b1309d6d7",
   "metadata": {},
   "outputs": [
    {
     "name": "stdout",
     "output_type": "stream",
     "text": [
      "length of the string is: 11\n"
     ]
    }
   ],
   "source": [
    "#2.  Write a code to find the length of the string \"Hello World\"\n",
    "\n",
    "my_string = \"Hello World\"\n",
    "length = len(my_string) \n",
    "print(\"length of the string is:\", length) "
   ]
  },
  {
   "cell_type": "code",
   "execution_count": 46,
   "id": "2eb11986-baee-4697-b7bb-a33e6ecf4bc0",
   "metadata": {},
   "outputs": [
    {
     "name": "stdout",
     "output_type": "stream",
     "text": [
      "first characters are: pyt\n"
     ]
    }
   ],
   "source": [
    "#3. Write a code to slice the first 3 characters from the string \"Python Programming\"\n",
    "\n",
    "my_string = \"python programming\"\n",
    "sliced_string = my_string[:3]\n",
    "print(\"first characters are:\", sliced_string) \n"
   ]
  },
  {
   "cell_type": "code",
   "execution_count": 48,
   "id": "15abf750-578e-41b3-a01a-7ce8eb2f0127",
   "metadata": {},
   "outputs": [
    {
     "data": {
      "text/plain": [
       "'HELLO'"
      ]
     },
     "execution_count": 48,
     "metadata": {},
     "output_type": "execute_result"
    }
   ],
   "source": [
    "#4. Write a code to convert the string \"hello\" to uppercase\n",
    "\n",
    "my_string = \"hello\"\n",
    "my_string.upper() "
   ]
  },
  {
   "cell_type": "code",
   "execution_count": 50,
   "id": "11ba6d9f-f189-4341-bc02-f47d082abe2d",
   "metadata": {},
   "outputs": [
    {
     "data": {
      "text/plain": [
       "'i like orange'"
      ]
     },
     "execution_count": 50,
     "metadata": {},
     "output_type": "execute_result"
    }
   ],
   "source": [
    "#5. Write a code to replace the word \"apple\" with \"orange\" in the string \"I like apple\"\n",
    "\n",
    "my_string = \"i like apple\"\n",
    "my_string.replace(\"apple\", \"orange\") "
   ]
  },
  {
   "cell_type": "code",
   "execution_count": 52,
   "id": "aad7c2df-0538-4137-b4ea-2ad7706bb2e2",
   "metadata": {},
   "outputs": [
    {
     "name": "stdout",
     "output_type": "stream",
     "text": [
      "[1, 2, 3, 4, 5]\n"
     ]
    }
   ],
   "source": [
    "#6. Write a code to create a list with numbers 1 to 5 and print it\n",
    "\n",
    "my_list = [1,2,3,4,5]\n",
    "print(my_list) "
   ]
  },
  {
   "cell_type": "code",
   "execution_count": 58,
   "id": "5582a34e-d72b-4119-bcf4-2169c65231e9",
   "metadata": {},
   "outputs": [
    {
     "name": "stdout",
     "output_type": "stream",
     "text": [
      "updated list: [1, 2, 3, 4, 10]\n"
     ]
    }
   ],
   "source": [
    "#7. Write a code to append the number 10 to the list [1, 2, 3, 4]\n",
    "\n",
    "my_list = [1,2,3,4]\n",
    "my_list.append(10)\n",
    "print(\"updated list:\", my_list) "
   ]
  },
  {
   "cell_type": "code",
   "execution_count": 62,
   "id": "0d9c4207-24f8-47c2-b117-d467c2f9ab3c",
   "metadata": {},
   "outputs": [
    {
     "name": "stdout",
     "output_type": "stream",
     "text": [
      "updated list: [1, 2, 4, 5]\n"
     ]
    }
   ],
   "source": [
    "#8. Write a code to remove the number 3 from the list [1, 2, 3, 4, 5]\n",
    "\n",
    "my_list = [1,2,3,4,5]\n",
    "my_list.remove(3) \n",
    "print(\"updated list:\", my_list) "
   ]
  },
  {
   "cell_type": "code",
   "execution_count": 64,
   "id": "e3c40f93-abee-41e1-b580-04beea6a56ed",
   "metadata": {},
   "outputs": [
    {
     "name": "stdout",
     "output_type": "stream",
     "text": [
      "updated list is: b\n"
     ]
    }
   ],
   "source": [
    "#9. Write a code to access the second element in the list ['a', 'b', 'c', 'd']\n",
    "\n",
    "my_list = ['a', 'b', 'c', 'd']\n",
    "new_list = my_list[1]\n",
    "print(\"updated list is:\", new_list) "
   ]
  },
  {
   "cell_type": "code",
   "execution_count": 68,
   "id": "e9f3e398-e208-40d6-929c-7db8a1483b42",
   "metadata": {},
   "outputs": [
    {
     "name": "stdout",
     "output_type": "stream",
     "text": [
      "new reversed list: [50, 40, 30, 20, 10]\n"
     ]
    }
   ],
   "source": [
    "#10. Write a code to reverse the list [10, 20, 30, 40, 50]\n",
    "\n",
    "my_list = [10, 20 ,30 ,40 ,50]\n",
    "my_list.reverse() \n",
    "print(\"new reversed list:\",my_list) "
   ]
  },
  {
   "cell_type": "code",
   "execution_count": 70,
   "id": "a2c08bca-fcc3-42c3-a5fb-c48798b0dc66",
   "metadata": {},
   "outputs": [
    {
     "name": "stdout",
     "output_type": "stream",
     "text": [
      "{10, 20, 30}\n"
     ]
    }
   ],
   "source": [
    "#11.  Write a code to create a tuple with the elements 10, 20, 30 and print it\n",
    "\n",
    "my_tuple = {10,20,30}\n",
    "print(my_tuple) "
   ]
  },
  {
   "cell_type": "code",
   "execution_count": 90,
   "id": "782eb0d3-6021-4384-b21a-880f89a4e467",
   "metadata": {},
   "outputs": [
    {
     "name": "stdout",
     "output_type": "stream",
     "text": [
      "apple\n"
     ]
    }
   ],
   "source": [
    "#12.  Write a code to access the first element of the tuple ('apple', 'banana', 'cherry')\n",
    "\n",
    "fruits = ('apple', 'banana', 'cherry')\n",
    "first_element = fruits[0]\n",
    "print(first_element) "
   ]
  },
  {
   "cell_type": "code",
   "execution_count": 116,
   "id": "f0e9a1a5-eab4-40f8-b844-355d0231237d",
   "metadata": {},
   "outputs": [
    {
     "name": "stdout",
     "output_type": "stream",
     "text": [
      "The number 2 appears: 3\n"
     ]
    }
   ],
   "source": [
    "#13.  Write a code to count how many times the number 2 appears in the tuple (1, 2, 3, 2, 4, 2)\n",
    "\n",
    "numbers = (1, 2, 3, 2, 4, 2)\n",
    "count_of_twos = numbers.count(2)\n",
    "print(\"The number 2 appears:\", count_of_twos) "
   ]
  },
  {
   "cell_type": "code",
   "execution_count": 138,
   "id": "8674a233-f743-4e32-9f36-54bc9bbfc4c9",
   "metadata": {},
   "outputs": [
    {
     "name": "stdout",
     "output_type": "stream",
     "text": [
      "1\n"
     ]
    }
   ],
   "source": [
    "#14.  Write a code to find the index of the element \"cat\" in the tuple ('dog', 'cat', 'rabbit')\n",
    "\n",
    "animals = ('dog', 'cat', 'rabbit')\n",
    "index_of_cat = animals.index('cat') \n",
    "print(index_of_cat) "
   ]
  },
  {
   "cell_type": "code",
   "execution_count": 142,
   "id": "0cbc3c03-1661-4fd8-a751-883c2bf7acc3",
   "metadata": {},
   "outputs": [
    {
     "name": "stdout",
     "output_type": "stream",
     "text": [
      "is banana in tuple: True\n"
     ]
    }
   ],
   "source": [
    "#15.  Write a code to check if the element \"banana\" is in the tuple ('apple', 'orange', 'banana')\n",
    "\n",
    "my_tuple = ('apple', 'orange', 'banana')\n",
    "b_tuple = 'banana' in my_tuple\n",
    "print(\"is banana in tuple:\", b_tuple) "
   ]
  },
  {
   "cell_type": "code",
   "execution_count": 146,
   "id": "07f2b09c-735b-4c24-ad7e-664a444ca8f2",
   "metadata": {},
   "outputs": [
    {
     "name": "stdout",
     "output_type": "stream",
     "text": [
      "{1, 2, 3, 4, 5}\n"
     ]
    }
   ],
   "source": [
    "#16. . Write a code to create a set with the elements 1, 2, 3, 4, 5 and print it\n",
    "\n",
    "my_set = {1,2,3,4,5}\n",
    "print(my_set) "
   ]
  },
  {
   "cell_type": "code",
   "execution_count": 158,
   "id": "fca27321-1309-4a77-ae06-5a4deb3f84ee",
   "metadata": {},
   "outputs": [
    {
     "name": "stdout",
     "output_type": "stream",
     "text": [
      "{1, 2, 3, 4, 6}\n"
     ]
    }
   ],
   "source": [
    "#17.  Write a code to add the element 6 to the set {1, 2, 3, 4}\n",
    "\n",
    "my_set = {1,2,3,4}\n",
    "my_set.add(6) \n",
    "print(my_set) "
   ]
  },
  {
   "cell_type": "code",
   "execution_count": 160,
   "id": "1d02dcb7-fe2a-4732-a4f4-2459fcd10b4f",
   "metadata": {},
   "outputs": [
    {
     "name": "stdout",
     "output_type": "stream",
     "text": [
      "(10, 20, 30)\n"
     ]
    }
   ],
   "source": [
    "#18. Write a code to create a tuple with the elements 10, 20, 30 and print it\n",
    "\n",
    "my_tuple = (10,20,30)\n",
    "print(my_tuple) "
   ]
  },
  {
   "cell_type": "code",
   "execution_count": 162,
   "id": "3dd4bed3-54a7-40bf-bd46-705364ea2f7a",
   "metadata": {},
   "outputs": [
    {
     "name": "stdout",
     "output_type": "stream",
     "text": [
      "apple\n"
     ]
    }
   ],
   "source": [
    "#19.  Write a code to access the first element of the tuple ('apple', 'banana', 'cherry')\n",
    "\n",
    "fruits = ('apple', 'banana', 'cherry')\n",
    "first_element = fruits[0]\n",
    "print(first_element) "
   ]
  },
  {
   "cell_type": "code",
   "execution_count": 164,
   "id": "a88f28c2-40ac-4b8e-bbdc-1ebed51d65c5",
   "metadata": {},
   "outputs": [
    {
     "name": "stdout",
     "output_type": "stream",
     "text": [
      "The number 2 appears: 3\n"
     ]
    }
   ],
   "source": [
    "#20. Write a code to count how many times the number 2 appears in the tuple (1, 2, 3, 2, 4, 2)\n",
    "\n",
    "numbers = (1, 2, 3, 2, 4, 2)\n",
    "count_of_twos = numbers.count(2)\n",
    "print(\"The number 2 appears:\", count_of_twos) "
   ]
  },
  {
   "cell_type": "code",
   "execution_count": 166,
   "id": "592b213e-f336-4c65-96d3-f6b53e7aea42",
   "metadata": {},
   "outputs": [
    {
     "name": "stdout",
     "output_type": "stream",
     "text": [
      "1\n"
     ]
    }
   ],
   "source": [
    "#21.  Write a code to find the index of the element \"cat\" in the tuple ('dog', 'cat', 'rabbit')\n",
    "\n",
    "animals = ('dog', 'cat', 'rabbit')\n",
    "index_of_cat = animals.index('cat') \n",
    "print(index_of_cat) "
   ]
  },
  {
   "cell_type": "code",
   "execution_count": 170,
   "id": "c2452065-b6a2-40c9-ae2b-e743a47fc1f5",
   "metadata": {},
   "outputs": [
    {
     "name": "stdout",
     "output_type": "stream",
     "text": [
      "is banana in tuple: True\n"
     ]
    }
   ],
   "source": [
    "#22.  Write a code to check if the element \"banana\" is in the tuple ('apple', 'orange', 'banana')\n",
    "\n",
    "my_tuple = ('apple', 'orange', 'banana')\n",
    "b_tuple = 'banana' in my_tuple\n",
    "print(\"is banana in tuple:\", b_tuple) "
   ]
  },
  {
   "cell_type": "code",
   "execution_count": 172,
   "id": "3eff3ea9-5e70-46a1-b1a8-7a50e889c2e6",
   "metadata": {},
   "outputs": [
    {
     "name": "stdout",
     "output_type": "stream",
     "text": [
      "{1, 2, 3, 4, 5}\n"
     ]
    }
   ],
   "source": [
    "#23.  Write a code to create a set with the elements 1, 2, 3, 4, 5 and print it.\n",
    "\n",
    "my_set = {1,2,3,4,5}\n",
    "print(my_set) "
   ]
  },
  {
   "cell_type": "code",
   "execution_count": 174,
   "id": "1dbf408e-6021-4501-b094-1e8810037e94",
   "metadata": {},
   "outputs": [
    {
     "name": "stdout",
     "output_type": "stream",
     "text": [
      "{1, 2, 3, 4, 6}\n"
     ]
    }
   ],
   "source": [
    "#24. Write a code to add the element 6 to the set {1, 2, 3, 4}\n",
    "\n",
    "my_set = {1,2,3,4}\n",
    "my_set.add(6) \n",
    "print(my_set) "
   ]
  },
  {
   "cell_type": "code",
   "execution_count": null,
   "id": "ef5b4d7b-43b0-451b-8999-1cb24af19462",
   "metadata": {},
   "outputs": [],
   "source": []
  }
 ],
 "metadata": {
  "kernelspec": {
   "display_name": "Python 3 (ipykernel)",
   "language": "python",
   "name": "python3"
  },
  "language_info": {
   "codemirror_mode": {
    "name": "ipython",
    "version": 3
   },
   "file_extension": ".py",
   "mimetype": "text/x-python",
   "name": "python",
   "nbconvert_exporter": "python",
   "pygments_lexer": "ipython3",
   "version": "3.12.7"
  }
 },
 "nbformat": 4,
 "nbformat_minor": 5
}
